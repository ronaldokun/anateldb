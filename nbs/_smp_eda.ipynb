{
 "cells": [
  {
   "cell_type": "code",
   "execution_count": null,
   "metadata": {},
   "outputs": [],
   "source": [
    "import sys\n",
    "from pathlib import Path"
   ]
  },
  {
   "cell_type": "code",
   "execution_count": null,
   "metadata": {},
   "outputs": [],
   "source": [
    "sys.path.insert(0, str(Path().cwd().parent))\n",
    "%load_ext autoreload\n",
    "%autoreload 2"
   ]
  },
  {
   "cell_type": "code",
   "execution_count": null,
   "metadata": {},
   "outputs": [],
   "source": [
    "import pandas as pd"
   ]
  },
  {
   "cell_type": "code",
   "execution_count": null,
   "metadata": {},
   "outputs": [],
   "source": [
    "DTYPE_SMP = {\n",
    "    \"NumAto\": \"category\",\n",
    "    \"NumFistel\": \"category\",\n",
    "    \"NumServico\": \"category\",\n",
    "    \"NomeEntidade\": \"category\",\n",
    "    \"SiglaUf\": \"category\",\n",
    "    \"NumEstacao\": \"string\",\n",
    "    \"NomeMunicipio\": \"category\",\n",
    "    \"CodMunicipio\": \"category\",\n",
    "    \"DataValidade\": \"category\",\n",
    "    \"FreqInicialMHz\": \"category\",\n",
    "    \"FreqCentralMHz\": \"category\",\n",
    "    \"FreqFinalMHz\": \"category\",\n",
    "    \"Latitude\": \"float\",\n",
    "    \"Longitude\": \"float\",\n",
    "    \"DesignacaoEmissao\": \"category\",\n",
    "    \"PotenciaTransmissorWatts\": \"float\",\n",
    "    \"CodTipoAntena\": \"category\",\n",
    "    \"Polarizacao\": \"category\",\n",
    "    \"RaioAntena\": \"float\",\n",
    "    \"GanhoAntena\": \"float\",\n",
    "    \"FrenteCostaAntena\": \"float\",\n",
    "    \"AnguloMeiaPotenciaAntena\": \"float\",\n",
    "    \"AnguloElevacao\": \"float\",\n",
    "    \"Azimute\": \"float\",\n",
    "    \"AlturaAntena\": \"float\",\n",
    "    \"PerdasAcessorias\": \"float\",\n",
    "}\n"
   ]
  },
  {
   "cell_type": "code",
   "execution_count": null,
   "metadata": {},
   "outputs": [],
   "source": [
    "df = pd.read_parquet(Path.cwd().parent / 'dados' / 'smp_formated.parquet.gzip')"
   ]
  },
  {
   "cell_type": "code",
   "execution_count": null,
   "metadata": {},
   "outputs": [
    {
     "name": "stdout",
     "output_type": "stream",
     "text": [
      "<class 'pandas.core.frame.DataFrame'>\n",
      "RangeIndex: 307166 entries, 0 to 307165\n",
      "Data columns (total 25 columns):\n",
      " #   Column                    Non-Null Count   Dtype \n",
      "---  ------                    --------------   ----- \n",
      " 0   NumAto                    307166 non-null  string\n",
      " 1   DataValidade              307166 non-null  string\n",
      " 2   NumFistel                 307166 non-null  string\n",
      " 3   NomeEntidade              307166 non-null  string\n",
      " 4   NumEstacao                307166 non-null  string\n",
      " 5   Latitude                  307166 non-null  string\n",
      " 6   Longitude                 307166 non-null  string\n",
      " 7   FreqInicialMHz            303121 non-null  string\n",
      " 8   FreqFinalMHz              303121 non-null  string\n",
      " 9   FreqCentralMHz            307166 non-null  string\n",
      " 10  CodMunicipio              307166 non-null  string\n",
      " 11  SiglaUf                   307166 non-null  string\n",
      " 12  PotenciaTransmissorWatts  307083 non-null  string\n",
      " 13  DesignacaoEmissao         307166 non-null  string\n",
      " 14  CodTipoAntena             307166 non-null  string\n",
      " 15  Polarizacao               307166 non-null  string\n",
      " 16  RaioAntena                38943 non-null   string\n",
      " 17  GanhoAntena               302192 non-null  string\n",
      " 18  FrenteCostaAntena         301711 non-null  string\n",
      " 19  AnguloMeiaPotenciaAntena  301101 non-null  string\n",
      " 20  AnguloElevacao            304049 non-null  string\n",
      " 21  Azimute                   306267 non-null  string\n",
      " 22  AlturaAntena              306438 non-null  string\n",
      " 23  PerdasAcessorias          220585 non-null  string\n",
      " 24  NomeMunicipio             72771 non-null   string\n",
      "dtypes: string(25)\n",
      "memory usage: 58.6 MB\n"
     ]
    }
   ],
   "source": [
    "df.info()"
   ]
  },
  {
   "cell_type": "code",
   "execution_count": null,
   "metadata": {},
   "outputs": [
    {
     "data": {
      "text/html": [
       "<div>\n",
       "<style scoped>\n",
       "    .dataframe tbody tr th:only-of-type {\n",
       "        vertical-align: middle;\n",
       "    }\n",
       "\n",
       "    .dataframe tbody tr th {\n",
       "        vertical-align: top;\n",
       "    }\n",
       "\n",
       "    .dataframe thead th {\n",
       "        text-align: right;\n",
       "    }\n",
       "</style>\n",
       "<table border=\"1\" class=\"dataframe\">\n",
       "  <thead>\n",
       "    <tr style=\"text-align: right;\">\n",
       "      <th></th>\n",
       "      <th></th>\n",
       "      <th></th>\n",
       "      <th></th>\n",
       "      <th></th>\n",
       "      <th>Número de Estações</th>\n",
       "    </tr>\n",
       "    <tr>\n",
       "      <th>SiglaUf</th>\n",
       "      <th>CodMunicipio</th>\n",
       "      <th>NumFistel</th>\n",
       "      <th>FreqCentralMHz</th>\n",
       "      <th>DesignacaoEmissao</th>\n",
       "      <th></th>\n",
       "    </tr>\n",
       "  </thead>\n",
       "  <tbody>\n",
       "    <tr>\n",
       "      <th rowspan=\"2\" valign=\"top\">RJ</th>\n",
       "      <th rowspan=\"2\" valign=\"top\">3304557</th>\n",
       "      <th rowspan=\"2\" valign=\"top\">50409146285</th>\n",
       "      <th>2680</th>\n",
       "      <th>20M0G7W</th>\n",
       "      <td>3727</td>\n",
       "    </tr>\n",
       "    <tr>\n",
       "      <th>2160</th>\n",
       "      <th>5M00G7W</th>\n",
       "      <td>3532</td>\n",
       "    </tr>\n",
       "    <tr>\n",
       "      <th>SP</th>\n",
       "      <th>3550308</th>\n",
       "      <th>50409105090</th>\n",
       "      <th>885</th>\n",
       "      <th>5M00G7W</th>\n",
       "      <td>2594</td>\n",
       "    </tr>\n",
       "    <tr>\n",
       "      <th rowspan=\"2\" valign=\"top\">RJ</th>\n",
       "      <th rowspan=\"2\" valign=\"top\">3304557</th>\n",
       "      <th rowspan=\"2\" valign=\"top\">50409146285</th>\n",
       "      <th>1867.5</th>\n",
       "      <th>200KG7W</th>\n",
       "      <td>1972</td>\n",
       "    </tr>\n",
       "    <tr>\n",
       "      <th>1862.5</th>\n",
       "      <th>200KG7W</th>\n",
       "      <td>1970</td>\n",
       "    </tr>\n",
       "    <tr>\n",
       "      <th>...</th>\n",
       "      <th>...</th>\n",
       "      <th>...</th>\n",
       "      <th>...</th>\n",
       "      <th>...</th>\n",
       "      <td>...</td>\n",
       "    </tr>\n",
       "    <tr>\n",
       "      <th>SP</th>\n",
       "      <th>3518305</th>\n",
       "      <th>50409146447</th>\n",
       "      <th>874.5</th>\n",
       "      <th>20M0G7W</th>\n",
       "      <td>1</td>\n",
       "    </tr>\n",
       "    <tr>\n",
       "      <th rowspan=\"2\" valign=\"top\">RJ</th>\n",
       "      <th rowspan=\"2\" valign=\"top\">3305109</th>\n",
       "      <th rowspan=\"2\" valign=\"top\">50409307637</th>\n",
       "      <th>2640</th>\n",
       "      <th>200KG7W</th>\n",
       "      <td>1</td>\n",
       "    </tr>\n",
       "    <tr>\n",
       "      <th>1875</th>\n",
       "      <th>20M0G7W</th>\n",
       "      <td>1</td>\n",
       "    </tr>\n",
       "    <tr>\n",
       "      <th>RS</th>\n",
       "      <th>4309506</th>\n",
       "      <th>50409314250</th>\n",
       "      <th>1827.5</th>\n",
       "      <th>200KG7W</th>\n",
       "      <td>1</td>\n",
       "    </tr>\n",
       "    <tr>\n",
       "      <th>MG</th>\n",
       "      <th>3117876</th>\n",
       "      <th>50409428698</th>\n",
       "      <th>1867.5</th>\n",
       "      <th>5M00G7W</th>\n",
       "      <td>1</td>\n",
       "    </tr>\n",
       "  </tbody>\n",
       "</table>\n",
       "<p>62334 rows × 1 columns</p>\n",
       "</div>"
      ],
      "text/plain": [
       "                                                                   Número de Estações\n",
       "SiglaUf CodMunicipio NumFistel   FreqCentralMHz DesignacaoEmissao                    \n",
       "RJ      3304557      50409146285 2680           20M0G7W                          3727\n",
       "                                 2160           5M00G7W                          3532\n",
       "SP      3550308      50409105090 885            5M00G7W                          2594\n",
       "RJ      3304557      50409146285 1867.5         200KG7W                          1972\n",
       "                                 1862.5         200KG7W                          1970\n",
       "...                                                                               ...\n",
       "SP      3518305      50409146447 874.5          20M0G7W                             1\n",
       "RJ      3305109      50409307637 2640           200KG7W                             1\n",
       "                                 1875           20M0G7W                             1\n",
       "RS      4309506      50409314250 1827.5         200KG7W                             1\n",
       "MG      3117876      50409428698 1867.5         5M00G7W                             1\n",
       "\n",
       "[62334 rows x 1 columns]"
      ]
     },
     "execution_count": null,
     "metadata": {},
     "output_type": "execute_result"
    }
   ],
   "source": [
    "gb = df.groupby(['SiglaUf', 'CodMunicipio', 'NumFistel', 'FreqCentralMHz', 'DesignacaoEmissao']).size().to_frame(name = 'Número de Estações').sort_values('Número de Estações', ascending = False)\n",
    "gb"
   ]
  },
  {
   "cell_type": "code",
   "execution_count": null,
   "metadata": {},
   "outputs": [],
   "source": [
    "gb = gb.astype('category')"
   ]
  },
  {
   "cell_type": "code",
   "execution_count": null,
   "metadata": {},
   "outputs": [
    {
     "name": "stdout",
     "output_type": "stream",
     "text": [
      "<class 'pandas.core.frame.DataFrame'>\n",
      "MultiIndex: 62334 entries, ('RJ', '3304557', '50409146285', '2680', '20M0G7W') to ('MG', '3117876', '50409428698', '1867.5', '5M00G7W')\n",
      "Data columns (total 1 columns):\n",
      " #   Column              Non-Null Count  Dtype   \n",
      "---  ------              --------------  -----   \n",
      " 0   Número de Estações  62334 non-null  category\n",
      "dtypes: category(1)\n",
      "memory usage: 536.4+ KB\n"
     ]
    }
   ],
   "source": [
    "gb.info()"
   ]
  },
  {
   "cell_type": "code",
   "execution_count": null,
   "metadata": {},
   "outputs": [],
   "source": [
    "gb.to_excel(Path.cwd().parent / 'sumarização_smp.xlsx')"
   ]
  },
  {
   "cell_type": "code",
   "execution_count": null,
   "metadata": {},
   "outputs": [],
   "source": []
  }
 ],
 "metadata": {
  "kernelspec": {
   "display_name": "db",
   "language": "python",
   "name": "python3"
  }
 },
 "nbformat": 4,
 "nbformat_minor": 2
}

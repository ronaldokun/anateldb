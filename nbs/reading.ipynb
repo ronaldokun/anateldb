{
 "cells": [
  {
   "cell_type": "code",
   "execution_count": null,
   "metadata": {},
   "outputs": [],
   "source": [
    "#| default_exp reading\n",
    "%load_ext autoreload\n",
    "%autoreload 2\n",
    "\n",
    "import sys\n",
    "from fastcore.xtras import Path\n",
    "# Insert in Path Project Directory\n",
    "sys.path.insert(0, str(Path().cwd().parent))"
   ]
  },
  {
   "attachments": {},
   "cell_type": "markdown",
   "metadata": {},
   "source": [
    "# Leitura\n",
    "> Este módulo concentra funções para a leitura dos diversos arquivos que compõe a base de dados\n",
    "\n",
    "* `STEL` - Serviços Privados de Telecomunicações\n",
    "* `RADCOM` - Serviço de Radiodifusão Comunitária\n",
    "* `MOSAICO` - Demais serviços de Radiodifusão, e.g. TV, RTV, FM, AM, etc.\n",
    "* `AERONAUTICA` - Consolidação de diversas bases de dados públicas da aeronáutica "
   ]
  },
  {
   "cell_type": "code",
   "execution_count": null,
   "metadata": {},
   "outputs": [
    {
     "data": {
      "text/plain": [
       "True"
      ]
     },
     "execution_count": null,
     "metadata": {},
     "output_type": "execute_result"
    }
   ],
   "source": [
    "#| export\n",
    "import os\n",
    "from typing import Union\n",
    "from pathlib import Path\n",
    "\n",
    "import pandas as pd\n",
    "import pyodbc\n",
    "from pymongo import MongoClient\n",
    "from dotenv import load_dotenv, find_dotenv\n",
    "\n",
    "from extracao.updates import (\n",
    "    update_srd,\n",
    "    update_stel,\n",
    "    update_radcom,\n",
    "    update_base,\n",
    "    update_telecom,\n",
    "    update_aero,\n",
    ")\n",
    "\n",
    "from extracao.icao import get_icao\n",
    "from extracao.aisgeo import get_aisg\n",
    "from extracao.aisweb import get_aisw\n",
    "from extracao.redemet import get_redemet\n",
    "from extracao.format import _read_df\n",
    "\n",
    "load_dotenv(find_dotenv())"
   ]
  },
  {
   "attachments": {},
   "cell_type": "markdown",
   "metadata": {},
   "source": [
    "## MOSAICO\n",
    "> O mosaico atualmente é composto por 2 bases complementares originárias de um banco `MongoDB`: \n",
    "\n",
    "-  `Estações`\n",
    "- `Plano Básico`"
   ]
  },
  {
   "cell_type": "code",
   "execution_count": null,
   "metadata": {},
   "outputs": [],
   "source": [
    "#| export\n",
    "def read_srd(\n",
    "    folder: Union[str, Path],  # Pasta onde ler/salvar os dados\n",
    "    conn: MongoClient = None,  # Objeto de Conexão com o banco MongoDB, atualiza os dados caso válido\n",
    ") -> pd.DataFrame:  # Dataframe com os dados do mosaico\n",
    "    \"\"\"Lê o banco de dados salvo localmente do MOSAICO e opcionalmente o atualiza.\"\"\"\n",
    "    return update_srd(conn, folder) if conn else _read_df(folder, \"srd\")\n"
   ]
  },
  {
   "cell_type": "code",
   "execution_count": null,
   "metadata": {},
   "outputs": [],
   "source": [
    "folder = Path.cwd().parent / 'dados'"
   ]
  },
  {
   "cell_type": "code",
   "execution_count": null,
   "metadata": {},
   "outputs": [],
   "source": [
    "from extracao.constants import MIN_LAT, MAX_LAT, MIN_LONG, MAX_LONG\n",
    "# from pandas_profiling import ProfileReport"
   ]
  },
  {
   "cell_type": "code",
   "execution_count": null,
   "metadata": {},
   "outputs": [],
   "source": [
    "mosaico = read_srd(folder)"
   ]
  },
  {
   "cell_type": "code",
   "execution_count": null,
   "metadata": {},
   "outputs": [
    {
     "name": "stdout",
     "output_type": "stream",
     "text": [
      "<class 'pandas.core.frame.DataFrame'>\n",
      "RangeIndex: 30661 entries, 0 to 30660\n",
      "Data columns (total 17 columns):\n",
      " #   Column                Non-Null Count  Dtype \n",
      "---  ------                --------------  ----- \n",
      " 0   Frequência            30661 non-null  string\n",
      " 1   Entidade              30658 non-null  string\n",
      " 2   Fistel                30661 non-null  string\n",
      " 3   Número_Estação        27119 non-null  string\n",
      " 4   Município             30660 non-null  string\n",
      " 5   Código_Município      30661 non-null  string\n",
      " 6   UF                    30661 non-null  string\n",
      " 7   Latitude              15079 non-null  string\n",
      " 8   Longitude             15079 non-null  string\n",
      " 9   Classe                30651 non-null  string\n",
      " 10  Num_Serviço           30661 non-null  string\n",
      " 11  Classe_Emissão        0 non-null      string\n",
      " 12  Largura_Emissão(kHz)  30661 non-null  string\n",
      " 13  Validade_RF           28410 non-null  string\n",
      " 14  Status                30661 non-null  string\n",
      " 15  Fonte                 30661 non-null  string\n",
      " 16  Multiplicidade        30661 non-null  string\n",
      "dtypes: string(17)\n",
      "memory usage: 4.0 MB\n"
     ]
    }
   ],
   "source": [
    "mosaico.info()"
   ]
  },
  {
   "cell_type": "code",
   "execution_count": null,
   "metadata": {},
   "outputs": [],
   "source": [
    "for c in ['Latitude', 'Longitude']:\n",
    "    mosaico[c] = mosaico[c].astype('float')"
   ]
  },
  {
   "cell_type": "code",
   "execution_count": null,
   "metadata": {},
   "outputs": [
    {
     "data": {
      "text/html": [
       "<div>\n",
       "<style scoped>\n",
       "    .dataframe tbody tr th:only-of-type {\n",
       "        vertical-align: middle;\n",
       "    }\n",
       "\n",
       "    .dataframe tbody tr th {\n",
       "        vertical-align: top;\n",
       "    }\n",
       "\n",
       "    .dataframe thead th {\n",
       "        text-align: right;\n",
       "    }\n",
       "</style>\n",
       "<table border=\"1\" class=\"dataframe\">\n",
       "  <thead>\n",
       "    <tr style=\"text-align: right;\">\n",
       "      <th></th>\n",
       "      <th>Frequência</th>\n",
       "      <th>Entidade</th>\n",
       "      <th>Fistel</th>\n",
       "      <th>Número_Estação</th>\n",
       "      <th>Município</th>\n",
       "      <th>Código_Município</th>\n",
       "      <th>UF</th>\n",
       "      <th>Latitude</th>\n",
       "      <th>Longitude</th>\n",
       "      <th>Classe</th>\n",
       "      <th>Num_Serviço</th>\n",
       "      <th>Classe_Emissão</th>\n",
       "      <th>Largura_Emissão(kHz)</th>\n",
       "      <th>Validade_RF</th>\n",
       "      <th>Status</th>\n",
       "      <th>Fonte</th>\n",
       "      <th>Multiplicidade</th>\n",
       "    </tr>\n",
       "  </thead>\n",
       "  <tbody>\n",
       "    <tr>\n",
       "      <th>0</th>\n",
       "      <td>207.0</td>\n",
       "      <td>REDE DE COMUNICACOES ACREANA LTDA</td>\n",
       "      <td>50442889933</td>\n",
       "      <td>&lt;NA&gt;</td>\n",
       "      <td>Cruzeiro do Sul</td>\n",
       "      <td>1200203</td>\n",
       "      <td>AC</td>\n",
       "      <td>NaN</td>\n",
       "      <td>NaN</td>\n",
       "      <td>A</td>\n",
       "      <td>248</td>\n",
       "      <td>&lt;NA&gt;</td>\n",
       "      <td>6000.0</td>\n",
       "      <td>&lt;NA&gt;</td>\n",
       "      <td>TV-C1</td>\n",
       "      <td>MOS</td>\n",
       "      <td>1</td>\n",
       "    </tr>\n",
       "    <tr>\n",
       "      <th>1</th>\n",
       "      <td>539.0</td>\n",
       "      <td>X-MEDIAGROUP S.A.</td>\n",
       "      <td>50410887137</td>\n",
       "      <td>&lt;NA&gt;</td>\n",
       "      <td>Mâncio Lima</td>\n",
       "      <td>1200336</td>\n",
       "      <td>AC</td>\n",
       "      <td>NaN</td>\n",
       "      <td>NaN</td>\n",
       "      <td>C</td>\n",
       "      <td>248</td>\n",
       "      <td>&lt;NA&gt;</td>\n",
       "      <td>6000.0</td>\n",
       "      <td>&lt;NA&gt;</td>\n",
       "      <td>TV-C1</td>\n",
       "      <td>MOS</td>\n",
       "      <td>1</td>\n",
       "    </tr>\n",
       "    <tr>\n",
       "      <th>16</th>\n",
       "      <td>593.0</td>\n",
       "      <td>FUNDACAO EDUCACIONAL E CULTURAL DAS AGUAS QUENTES</td>\n",
       "      <td>50403401330</td>\n",
       "      <td>&lt;NA&gt;</td>\n",
       "      <td>Caldas Novas</td>\n",
       "      <td>5204508</td>\n",
       "      <td>GO</td>\n",
       "      <td>NaN</td>\n",
       "      <td>NaN</td>\n",
       "      <td>B</td>\n",
       "      <td>248</td>\n",
       "      <td>&lt;NA&gt;</td>\n",
       "      <td>6000.0</td>\n",
       "      <td>2023-12-31</td>\n",
       "      <td>TV-C2</td>\n",
       "      <td>MOS</td>\n",
       "      <td>1</td>\n",
       "    </tr>\n",
       "    <tr>\n",
       "      <th>17</th>\n",
       "      <td>665.0</td>\n",
       "      <td>GUARANI RADIODIFUSAO LTDA</td>\n",
       "      <td>50410887218</td>\n",
       "      <td>&lt;NA&gt;</td>\n",
       "      <td>Caldas Novas</td>\n",
       "      <td>5204508</td>\n",
       "      <td>GO</td>\n",
       "      <td>NaN</td>\n",
       "      <td>NaN</td>\n",
       "      <td>C</td>\n",
       "      <td>248</td>\n",
       "      <td>&lt;NA&gt;</td>\n",
       "      <td>6000.0</td>\n",
       "      <td>2023-12-31</td>\n",
       "      <td>TV-C2</td>\n",
       "      <td>MOS</td>\n",
       "      <td>1</td>\n",
       "    </tr>\n",
       "    <tr>\n",
       "      <th>25</th>\n",
       "      <td>551.0</td>\n",
       "      <td>OCAN COMUNICACAO DIGITAL SE LTDA</td>\n",
       "      <td>50410887307</td>\n",
       "      <td>1004428283</td>\n",
       "      <td>Santa Quitéria do Maranhão</td>\n",
       "      <td>2110104</td>\n",
       "      <td>MA</td>\n",
       "      <td>NaN</td>\n",
       "      <td>NaN</td>\n",
       "      <td>C</td>\n",
       "      <td>248</td>\n",
       "      <td>&lt;NA&gt;</td>\n",
       "      <td>6000.0</td>\n",
       "      <td>2023-12-31</td>\n",
       "      <td>TV-C3</td>\n",
       "      <td>MOS</td>\n",
       "      <td>1</td>\n",
       "    </tr>\n",
       "    <tr>\n",
       "      <th>...</th>\n",
       "      <td>...</td>\n",
       "      <td>...</td>\n",
       "      <td>...</td>\n",
       "      <td>...</td>\n",
       "      <td>...</td>\n",
       "      <td>...</td>\n",
       "      <td>...</td>\n",
       "      <td>...</td>\n",
       "      <td>...</td>\n",
       "      <td>...</td>\n",
       "      <td>...</td>\n",
       "      <td>...</td>\n",
       "      <td>...</td>\n",
       "      <td>...</td>\n",
       "      <td>...</td>\n",
       "      <td>...</td>\n",
       "      <td>...</td>\n",
       "    </tr>\n",
       "    <tr>\n",
       "      <th>30654</th>\n",
       "      <td>689.0</td>\n",
       "      <td>EMPRESA BRASIL DE COMUNICACAO S.A. - EBC</td>\n",
       "      <td>50445158760</td>\n",
       "      <td>&lt;NA&gt;</td>\n",
       "      <td>São Benedito do Sul</td>\n",
       "      <td>2612901</td>\n",
       "      <td>PE</td>\n",
       "      <td>NaN</td>\n",
       "      <td>NaN</td>\n",
       "      <td>C</td>\n",
       "      <td>801</td>\n",
       "      <td>&lt;NA&gt;</td>\n",
       "      <td>5700.0</td>\n",
       "      <td>&lt;NA&gt;</td>\n",
       "      <td>TV-C1</td>\n",
       "      <td>MOS</td>\n",
       "      <td>1</td>\n",
       "    </tr>\n",
       "    <tr>\n",
       "      <th>30655</th>\n",
       "      <td>183.0</td>\n",
       "      <td>CAMARA DOS DEPUTADOS</td>\n",
       "      <td>50445157364</td>\n",
       "      <td>&lt;NA&gt;</td>\n",
       "      <td>São Bento do Una</td>\n",
       "      <td>2613008</td>\n",
       "      <td>PE</td>\n",
       "      <td>NaN</td>\n",
       "      <td>NaN</td>\n",
       "      <td>C</td>\n",
       "      <td>801</td>\n",
       "      <td>&lt;NA&gt;</td>\n",
       "      <td>5700.0</td>\n",
       "      <td>&lt;NA&gt;</td>\n",
       "      <td>TV-C1</td>\n",
       "      <td>MOS</td>\n",
       "      <td>1</td>\n",
       "    </tr>\n",
       "    <tr>\n",
       "      <th>30656</th>\n",
       "      <td>629.0</td>\n",
       "      <td>CAMARA DOS DEPUTADOS</td>\n",
       "      <td>50445158255</td>\n",
       "      <td>&lt;NA&gt;</td>\n",
       "      <td>Itabi</td>\n",
       "      <td>2803104</td>\n",
       "      <td>SE</td>\n",
       "      <td>NaN</td>\n",
       "      <td>NaN</td>\n",
       "      <td>C</td>\n",
       "      <td>801</td>\n",
       "      <td>&lt;NA&gt;</td>\n",
       "      <td>5700.0</td>\n",
       "      <td>&lt;NA&gt;</td>\n",
       "      <td>TV-C1</td>\n",
       "      <td>MOS</td>\n",
       "      <td>1</td>\n",
       "    </tr>\n",
       "    <tr>\n",
       "      <th>30657</th>\n",
       "      <td>599.0</td>\n",
       "      <td>RADIO E TELEVISAO RECORD S.A</td>\n",
       "      <td>50408913266</td>\n",
       "      <td>1006898414</td>\n",
       "      <td>Manaus</td>\n",
       "      <td>1302603</td>\n",
       "      <td>AM</td>\n",
       "      <td>NaN</td>\n",
       "      <td>NaN</td>\n",
       "      <td>C</td>\n",
       "      <td>801</td>\n",
       "      <td>&lt;NA&gt;</td>\n",
       "      <td>5700.0</td>\n",
       "      <td>2027-01-10</td>\n",
       "      <td>TV-C4</td>\n",
       "      <td>MOS</td>\n",
       "      <td>1</td>\n",
       "    </tr>\n",
       "    <tr>\n",
       "      <th>30658</th>\n",
       "      <td>575.0</td>\n",
       "      <td>PREFEITURA MUNICIPAL DE SANTA HELENA</td>\n",
       "      <td>50444912681</td>\n",
       "      <td>&lt;NA&gt;</td>\n",
       "      <td>Santa Helena</td>\n",
       "      <td>2109809</td>\n",
       "      <td>MA</td>\n",
       "      <td>NaN</td>\n",
       "      <td>NaN</td>\n",
       "      <td>C</td>\n",
       "      <td>801</td>\n",
       "      <td>&lt;NA&gt;</td>\n",
       "      <td>5700.0</td>\n",
       "      <td>&lt;NA&gt;</td>\n",
       "      <td>TV-C1</td>\n",
       "      <td>MOS</td>\n",
       "      <td>1</td>\n",
       "    </tr>\n",
       "  </tbody>\n",
       "</table>\n",
       "<p>15583 rows × 17 columns</p>\n",
       "</div>"
      ],
      "text/plain": [
       "      Frequência                                           Entidade   \n",
       "0          207.0                  REDE DE COMUNICACOES ACREANA LTDA  \\\n",
       "1          539.0                                  X-MEDIAGROUP S.A.   \n",
       "16         593.0  FUNDACAO EDUCACIONAL E CULTURAL DAS AGUAS QUENTES   \n",
       "17         665.0                          GUARANI RADIODIFUSAO LTDA   \n",
       "25         551.0                   OCAN COMUNICACAO DIGITAL SE LTDA   \n",
       "...          ...                                                ...   \n",
       "30654      689.0           EMPRESA BRASIL DE COMUNICACAO S.A. - EBC   \n",
       "30655      183.0                               CAMARA DOS DEPUTADOS   \n",
       "30656      629.0                               CAMARA DOS DEPUTADOS   \n",
       "30657      599.0                       RADIO E TELEVISAO RECORD S.A   \n",
       "30658      575.0               PREFEITURA MUNICIPAL DE SANTA HELENA   \n",
       "\n",
       "            Fistel Número_Estação                   Município   \n",
       "0      50442889933           <NA>             Cruzeiro do Sul  \\\n",
       "1      50410887137           <NA>                 Mâncio Lima   \n",
       "16     50403401330           <NA>                Caldas Novas   \n",
       "17     50410887218           <NA>                Caldas Novas   \n",
       "25     50410887307     1004428283  Santa Quitéria do Maranhão   \n",
       "...            ...            ...                         ...   \n",
       "30654  50445158760           <NA>         São Benedito do Sul   \n",
       "30655  50445157364           <NA>            São Bento do Una   \n",
       "30656  50445158255           <NA>                       Itabi   \n",
       "30657  50408913266     1006898414                      Manaus   \n",
       "30658  50444912681           <NA>                Santa Helena   \n",
       "\n",
       "      Código_Município  UF  Latitude  Longitude Classe Num_Serviço   \n",
       "0              1200203  AC       NaN        NaN      A         248  \\\n",
       "1              1200336  AC       NaN        NaN      C         248   \n",
       "16             5204508  GO       NaN        NaN      B         248   \n",
       "17             5204508  GO       NaN        NaN      C         248   \n",
       "25             2110104  MA       NaN        NaN      C         248   \n",
       "...                ...  ..       ...        ...    ...         ...   \n",
       "30654          2612901  PE       NaN        NaN      C         801   \n",
       "30655          2613008  PE       NaN        NaN      C         801   \n",
       "30656          2803104  SE       NaN        NaN      C         801   \n",
       "30657          1302603  AM       NaN        NaN      C         801   \n",
       "30658          2109809  MA       NaN        NaN      C         801   \n",
       "\n",
       "      Classe_Emissão Largura_Emissão(kHz) Validade_RF Status Fonte   \n",
       "0               <NA>               6000.0        <NA>  TV-C1   MOS  \\\n",
       "1               <NA>               6000.0        <NA>  TV-C1   MOS   \n",
       "16              <NA>               6000.0  2023-12-31  TV-C2   MOS   \n",
       "17              <NA>               6000.0  2023-12-31  TV-C2   MOS   \n",
       "25              <NA>               6000.0  2023-12-31  TV-C3   MOS   \n",
       "...              ...                  ...         ...    ...   ...   \n",
       "30654           <NA>               5700.0        <NA>  TV-C1   MOS   \n",
       "30655           <NA>               5700.0        <NA>  TV-C1   MOS   \n",
       "30656           <NA>               5700.0        <NA>  TV-C1   MOS   \n",
       "30657           <NA>               5700.0  2027-01-10  TV-C4   MOS   \n",
       "30658           <NA>               5700.0        <NA>  TV-C1   MOS   \n",
       "\n",
       "      Multiplicidade  \n",
       "0                  1  \n",
       "1                  1  \n",
       "16                 1  \n",
       "17                 1  \n",
       "25                 1  \n",
       "...              ...  \n",
       "30654              1  \n",
       "30655              1  \n",
       "30656              1  \n",
       "30657              1  \n",
       "30658              1  \n",
       "\n",
       "[15583 rows x 17 columns]"
      ]
     },
     "execution_count": null,
     "metadata": {},
     "output_type": "execute_result"
    }
   ],
   "source": [
    "# mos_bad_coords = mosaico[~(mosaico.Latitude.between(MIN_LAT, MAX_LAT) | mosaico.Longitude.between(MIN_LONG, MAX_LONG))]\n",
    "# mos_bad_coords"
   ]
  },
  {
   "cell_type": "code",
   "execution_count": null,
   "metadata": {},
   "outputs": [],
   "source": [
    "# print(f\"A base de radiodifusão do Mosaico possui {len(mos_bad_coords)} registros de coordenadas inválidas do total de {len(mosaico)}\")"
   ]
  },
  {
   "cell_type": "code",
   "execution_count": null,
   "metadata": {},
   "outputs": [],
   "source": [
    "# mosaico['Frequência'] = mosaico['Frequência'].astype('category')\n",
    "# mosaico_profile = ProfileReport(mosaico, config_file='report_config.yaml', title='MOSAICO')\n",
    "# mosaico_profile.to_notebook_iframe()"
   ]
  },
  {
   "attachments": {},
   "cell_type": "markdown",
   "metadata": {},
   "source": [
    "## LICENCIAMENTO\n",
    "> A Base licenciamento é composta de serviços privados de telecomunicações, tanto antigos migrados do STEL como novos para um novo banco de dados `MongoDB`"
   ]
  },
  {
   "cell_type": "code",
   "execution_count": null,
   "metadata": {},
   "outputs": [],
   "source": [
    "#| export\n",
    "def read_telecom(\n",
    "    folder: Union[str, Path],  # Pasta onde ler/salvar os dados\n",
    "    conn: MongoClient = None,  # Objeto de Conexão com o banco MongoDB, atualiza os dados caso válido\n",
    ") -> pd.DataFrame:  # Dataframe com os dados do mosaico\n",
    "    \"\"\"Lê o banco de dados salvo localmente do LICENCIAMENTO e opcionalmente o atualiza.\"\"\"\n",
    "    return update_telecom(conn, folder) if conn else _read_df(folder, \"telecom\")\n"
   ]
  },
  {
   "cell_type": "code",
   "execution_count": null,
   "metadata": {},
   "outputs": [],
   "source": [
    "#|eval: false\n",
    "#|code_fold: true\n",
    "telecom = read_telecom(folder)"
   ]
  },
  {
   "cell_type": "code",
   "execution_count": null,
   "metadata": {},
   "outputs": [],
   "source": [
    "#|eval: false\n",
    "for c in ['Latitude', 'Longitude']:\n",
    "    telecom[c] = telecom[c].astype('float')"
   ]
  },
  {
   "cell_type": "code",
   "execution_count": null,
   "metadata": {},
   "outputs": [],
   "source": [
    "#| eval: false\n",
    "# telecom[~(telecom.Latitude.between(MIN_LAT, MAX_LAT) | telecom.Longitude.between(MIN_LONG, MAX_LONG))]"
   ]
  },
  {
   "cell_type": "code",
   "execution_count": null,
   "metadata": {},
   "outputs": [],
   "source": [
    "#| eval: false\n",
    "# telecom['Frequência'] = telecom['Frequência'].astype('category')\n",
    "# telecom_profile = ProfileReport(telecom, config_file='report_config.yaml', title='Telecomunicações')\n",
    "# telecom_profile.to_notebook_iframe()"
   ]
  },
  {
   "attachments": {},
   "cell_type": "markdown",
   "metadata": {},
   "source": [
    "##  RADCOM"
   ]
  },
  {
   "cell_type": "code",
   "execution_count": null,
   "metadata": {},
   "outputs": [],
   "source": [
    "#| export\n",
    "def read_radcom(\n",
    "    folder: Union[str, Path],  # Pasta onde ler/salvar os dados\n",
    "    conn: pyodbc.Connection = None,  # Objeto de conexão de banco, atualiza os dados caso válido\n",
    ") -> pd.DataFrame:  # Dataframe com os dados de RADCOM\n",
    "    \"\"\"Lê o banco de dados salvo localmente de RADCOM. Opcionalmente o atualiza pelo Banco de Dados ANATELBDRO05 caso `update = True` ou não exista o arquivo local\"\"\"\n",
    "    return update_radcom(conn, folder) if conn else _read_df(folder, \"radcom\")\n"
   ]
  },
  {
   "cell_type": "code",
   "execution_count": null,
   "metadata": {},
   "outputs": [],
   "source": [
    "#|eval: false\n",
    "#|code_fold: true\n",
    "radcom = read_radcom(folder)\n",
    "# radcom['Frequência'] = radcom['Frequência'].astype('category')\n",
    "# radcom_profile = ProfileReport(radcom, config_file='report_config.yaml', title='RADCOM')\n",
    "# radcom_profile.to_notebook_iframe()"
   ]
  },
  {
   "attachments": {},
   "cell_type": "markdown",
   "metadata": {},
   "source": [
    "## STEL"
   ]
  },
  {
   "cell_type": "code",
   "execution_count": null,
   "metadata": {},
   "outputs": [],
   "source": [
    "#| export\n",
    "def read_stel(\n",
    "    folder: Union[str, Path],  # Pasta onde ler/salvar os dados\n",
    "    conn: pyodbc.Connection = None,  # Objeto de conexão de banco. Atualiza os dados caso válido\n",
    ") -> pd.DataFrame:  # Dataframe com os dados do STEL\n",
    "    \"\"\"Lê o banco de dados salvo localmente do STEL.\n",
    "     Opcionalmente o atualiza pelo Banco de Dados ANATELBDRO05\n",
    "    caso `update = True` ou não exista o arquivo local\"\"\"\n",
    "    return update_stel(conn, folder) if conn else _read_df(folder, \"stel\")\n"
   ]
  },
  {
   "cell_type": "code",
   "execution_count": null,
   "metadata": {},
   "outputs": [],
   "source": [
    "#|eval: false\n",
    "#|code_fold: true\n",
    "stel = read_stel(folder)\n",
    "# stel['Frequência'] = stel['Frequência'].astype('category')\n",
    "# stel_profile = ProfileReport(stel, config_file='report_config.yaml', title='STEL')\n",
    "# stel_profile.to_notebook_iframe()"
   ]
  },
  {
   "cell_type": "code",
   "execution_count": null,
   "metadata": {},
   "outputs": [],
   "source": [
    "from extracao.constants import SQL_VALIDA_COORD"
   ]
  },
  {
   "cell_type": "code",
   "execution_count": null,
   "metadata": {},
   "outputs": [],
   "source": [
    "def valida_coords(\n",
    "    conn: pyodbc.Connection,  # Objeto de conexão de banco\n",
    "    row: pd.Series,  # Linha de um DataFrame\n",
    ") -> tuple:  # DataFrame com dados do município\n",
    "    \"\"\"Valida os dados de coordenadas e município em `row` no polígono dos municípios em banco corporativo\"\"\"\n",
    "    \n",
    "    sql = SQL_VALIDA_COORD.format(\n",
    "        row.Longitude, row.Latitude, row.Código_Município\n",
    "    )\n",
    "    crsr = conn.cursor()\n",
    "    crsr.execute(sql)\n",
    "    result = crsr.fetchone()\n",
    "    if result is None:\n",
    "        return (row.Código_Município, row.Longitude, row.Latitude, -1)\n",
    "    elif result.COORD_VALIDA == 1:\n",
    "        return result\n",
    "    else:\n",
    "        return (\n",
    "            result.NO_MUNICIPIO,\n",
    "            result.NU_LONGITUDE,\n",
    "            result.NU_LATITUDE,\n",
    "            result.COORD_VALIDA,\n",
    "        )"
   ]
  },
  {
   "attachments": {},
   "cell_type": "markdown",
   "metadata": {},
   "source": [
    "## Bases Externas da Aeronáutica"
   ]
  },
  {
   "cell_type": "code",
   "execution_count": null,
   "metadata": {},
   "outputs": [],
   "source": [
    "#| export\n",
    "def read_icao(\n",
    "    folder: Union[str, Path],  # Pasta onde ler/salvar os dados\n",
    "    update: bool = False,  # Atualiza os dados caso `True`\n",
    ") -> pd.DataFrame:  # Dataframe com os dados do ICAO\n",
    "    \"\"\"Lê a base de dados do Frequency Finder e Canalização VOR/ILS/DME\"\"\"\n",
    "    return get_icao if update else _read_df(folder, \"icao\")\n"
   ]
  },
  {
   "cell_type": "code",
   "execution_count": null,
   "metadata": {},
   "outputs": [],
   "source": [
    "#| export\n",
    "def read_aisw(\n",
    "    folder: Union[str, Path],  # Pasta onde ler/salvar os dados\n",
    "    update: bool = False,  # Atualiza os dados caso `True`\n",
    ") -> pd.DataFrame:  # Dataframe com os dados do AISWEB\n",
    "    \"\"\"Fontes da informação: AISWEB, REDEMET, Ofício nº 2/SSARP/14410 e Canalização VOR/ILS/DME.\"\"\"\n",
    "    return get_aisw() if update else _read_df(folder, \"aisw\")\n"
   ]
  },
  {
   "cell_type": "code",
   "execution_count": null,
   "metadata": {},
   "outputs": [],
   "source": [
    "#| export\n",
    "def read_aisg(\n",
    "    folder: Union[str, Path],  # Pasta onde ler/salvar os dados\n",
    "    update: bool = False,  # Atualiza os dados caso `True`\n",
    ") -> pd.DataFrame:  # Dataframe com os dados do GEOAISWEB\n",
    "    \"\"\"Fontes da informação: GEOAISWEB, REDEMET, Ofício nº 2/SSARP/14410 e Canalização VOR/ILS/DME.\"\"\"\n",
    "    return get_aisg() if update else _read_df(folder, \"aisg\")\n"
   ]
  },
  {
   "cell_type": "code",
   "execution_count": null,
   "metadata": {},
   "outputs": [],
   "source": [
    "#| export\n",
    "def read_redemet(\n",
    "    folder: Union[str, Path],  # Pasta onde ler/salvar os dados\n",
    "    update: bool = False,  # Atualiza os dados caso `True`\n",
    ") -> pd.DataFrame:  # Dataframe com os dados do AISWEB\n",
    "    \"\"\"Fontes da informação: AISWEB, REDEMET, Ofício nº 2/SSARP/14410 e Canalização VOR/ILS/DME.\"\"\"\n",
    "    return get_redemet() if update else _read_df(folder, \"redemet\")\n"
   ]
  },
  {
   "cell_type": "code",
   "execution_count": null,
   "metadata": {},
   "outputs": [],
   "source": [
    "#| export\n",
    "def read_aero(\n",
    "    folder: Union[str, Path],  # Pasta onde ler/salvar os dados\n",
    "    update: bool = False,  # Atualiza os dados caso `True`\n",
    ") -> pd.DataFrame:  # Dataframe com os dados mesclados das 3 bases da Aeronáutica anteriores\n",
    "    \"\"\"Lê os arquivos de dados da aeronáutica e retorna os registros comuns e únicos\"\"\"\n",
    "    return update_aero(folder) if update else _read_df(folder, \"aero\")\n"
   ]
  },
  {
   "cell_type": "code",
   "execution_count": null,
   "metadata": {},
   "outputs": [],
   "source": [
    "#| eval: false\n",
    "aero = read_aero(folder)\n",
    "# aero['Frequency'] = aero['Frequency'].astype('category')\n",
    "# aero_profile = ProfileReport(aero, config_file='report_config.yaml', title='AERONAUTICA')\n",
    "# aero_profile.to_notebook_iframe()"
   ]
  },
  {
   "attachments": {},
   "cell_type": "markdown",
   "metadata": {},
   "source": [
    "## Base Consolidada"
   ]
  },
  {
   "cell_type": "code",
   "execution_count": null,
   "metadata": {},
   "outputs": [],
   "source": [
    "#| export\n",
    "def read_base(\n",
    "    folder: Union[str, Path],\n",
    "    conn: pyodbc.Connection = None,  # Objeto de conexão do banco SQL Server\n",
    "    clientMongoDB: MongoClient = None,  # Objeto de conexão do banco MongoDB\n",
    ") -> pd.DataFrame:\n",
    "    \"\"\"Lê a base de dados e opcionalmente a atualiza antes da leitura casos as conexões de banco sejam válidas\"\"\"\n",
    "    return (\n",
    "        update_base(conn, clientMongoDB, folder)\n",
    "        if all([conn, clientMongoDB])\n",
    "        else _read_df(folder, \"base\")\n",
    "    )"
   ]
  },
  {
   "cell_type": "code",
   "execution_count": null,
   "metadata": {},
   "outputs": [],
   "source": [
    "#|eval: false\n",
    "#|code_fold: true\n",
    "base = read_base(folder)\n",
    "# base['Frequência'] = base['Frequência'].astype('category')\n",
    "# base_profile = ProfileReport(base, config_file='report_config.yaml', title='Base Consolidada')\n",
    "# base_profile.to_notebook_iframe()"
   ]
  }
 ],
 "metadata": {
  "kernelspec": {
   "display_name": "Python 3 (ipykernel)",
   "language": "python",
   "name": "python3"
  }
 },
 "nbformat": 4,
 "nbformat_minor": 2
}
